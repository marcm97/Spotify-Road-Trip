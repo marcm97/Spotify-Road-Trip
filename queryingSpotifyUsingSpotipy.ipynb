{
 "cells": [
  {
   "cell_type": "code",
   "execution_count": 420,
   "metadata": {},
   "outputs": [],
   "source": [
    "import spotipy\n",
    "from spotipy.oauth2 import SpotifyClientCredentials\n",
    "import spotipy.util as util\n",
    "import pandas as pd\n",
    "import re\n",
    "from time import sleep\n",
    "from random import random\n",
    "from time import time"
   ]
  },
  {
   "cell_type": "code",
   "execution_count": 417,
   "metadata": {},
   "outputs": [],
   "source": [
    "#Save Credentials\n",
    "with open('SpotifyID.txt', 'r') as f:\n",
    "    client_id = f.read().replace('\\n','')\n",
    "with open('SpotifySecret.txt', 'r') as f:\n",
    "    client_secret = f.read().replace('\\n','')"
   ]
  },
  {
   "cell_type": "code",
   "execution_count": 418,
   "metadata": {},
   "outputs": [],
   "source": [
    "#read in songs from main df\n",
    "songs = pd.read_csv(\"songs.csv\")\n",
    "songList = songs[\"songs\"].to_list()"
   ]
  },
  {
   "cell_type": "code",
   "execution_count": 419,
   "metadata": {},
   "outputs": [],
   "source": [
    "#My username\n",
    "username= \"225a5fp37icg43v4vhnztptfy\"\n",
    "\n",
    "#New Playlist Name\n",
    "newPlaylist = \"TestingApiTake3\""
   ]
  },
  {
   "cell_type": "code",
   "execution_count": null,
   "metadata": {},
   "outputs": [],
   "source": [
    "#Authentication\n",
    "scope = 'playlist-modify-public'\n",
    "token = util.prompt_for_user_token(username,scope=scope,client_id=client_id,client_secret=client_secret,redirect_uri='http://localhost/test')\n",
    "\n",
    "if token:\n",
    "    sp = spotipy.Spotify(auth=token)\n",
    "    sp.trace = False\n",
    "    \n",
    "\n",
    "#get all user playists\n",
    "playlists = sp.user_playlists(username)\n",
    "playListID = \"\"\n",
    "\n",
    "allSongIDs = []\n",
    "\n",
    "#See if playlist already exists\n",
    "for playlist in playlists[\"items\"]:\n",
    "    if (playlist[\"name\"]==newPlaylist):\n",
    "        playListID = playlist[\"id\"]\n",
    "\n",
    "#Create a list of all current songs if playlist exits\n",
    "if (playListID!=\"\"):\n",
    "    allSongIDs = [sp.playlist(playListID)[\"tracks\"][\"items\"][i][\"track\"][\"id\"] for i in range(len(sp.playlist(playListID)[\"tracks\"][\"items\"]))]\n",
    "\n",
    "#If playlist does not exist, create a new playlist\n",
    "elif (playListID==\"\"):\n",
    "    sp.user_playlist_create(username, newPlaylist,public = True)\n",
    "    playListID = playlists[\"items\"][0][\"id\"]\n",
    "\n",
    "#Iterate through all the songs and add songs\n",
    "# (each song name + artist) is broken down into individual words\n",
    "# remove one word at a time from the search untill you get a search result\n",
    "for i in range(len(songList)):\n",
    "    songList[i] = songList[i].replace(\"\\\"\",\"\")\n",
    "    temp =(re.split(r\" \", songList[i]) )\n",
    "    j=len(temp)\n",
    "    search = sp.search(\" \".join(temp[:j]))\n",
    "    if (search[\"tracks\"][\"items\"]==[]):\n",
    "        search = sp.search(\" \".join(temp[:j]).replace(\"by\",\"\"))\n",
    "    while(j>0 and search[\"tracks\"][\"items\"]==[]):\n",
    "        search = sp.search(\" \".join(temp[:j]))\n",
    "        j=j-1\n",
    "    if search==None:\n",
    "        print(\"\".join(temp),\"Not found\")\n",
    "    else:\n",
    "        foundTrack = search[\"tracks\"][\"items\"][0][\"id\"]\n",
    "        if foundTrack not in allSongIDs:\n",
    "            sleep(random()/5)\n",
    "            sp.user_playlist_add_tracks(username, playListID,[foundTrack])\n",
    "            allSongIDs.append(foundTrack)"
   ]
  },
  {
   "cell_type": "code",
   "execution_count": 409,
   "metadata": {},
   "outputs": [
    {
     "data": {
      "text/plain": [
       "583"
      ]
     },
     "execution_count": 409,
     "metadata": {},
     "output_type": "execute_result"
    }
   ],
   "source": [
    "len(songList)"
   ]
  },
  {
   "cell_type": "code",
   "execution_count": null,
   "metadata": {},
   "outputs": [],
   "source": []
  }
 ],
 "metadata": {
  "kernelspec": {
   "display_name": "Python 3",
   "language": "python",
   "name": "python3"
  }
 },
 "nbformat": 4,
 "nbformat_minor": 2
}
