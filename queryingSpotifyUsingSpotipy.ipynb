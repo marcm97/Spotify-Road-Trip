{
 "cells": [
  {
   "cell_type": "code",
   "execution_count": null,
   "metadata": {},
   "outputs": [],
   "source": [
    "import spotipy\n",
    "from spotipy.oauth2 import SpotifyClientCredentials\n",
    "import spotipy.util as util\n",
    "import pandas as pd\n",
    "import re\n",
    "from time import sleep\n",
    "from random import random\n",
    "from time import time\n",
    "import glob"
   ]
  },
  {
   "cell_type": "code",
   "execution_count": null,
   "metadata": {},
   "outputs": [],
   "source": [
    "#Save Credentials\n",
    "with open('SpotifyID.txt', 'r') as f:\n",
    "    client_id = f.read().replace('\\n','')\n",
    "with open('SpotifySecret.txt', 'r') as f:\n",
    "    client_secret = f.read().replace('\\n','')\n",
    "\n",
    "client_credentials_manager = SpotifyClientCredentials(client_id=client_id, client_secret=client_secret)\n",
    "sp = spotipy.Spotify(client_credentials_manager=client_credentials_manager)\n",
    "sp.trace=False"
   ]
  },
  {
   "cell_type": "code",
   "execution_count": null,
   "metadata": {},
   "outputs": [],
   "source": [
    "def query(data_cleaned,file_loc):\n",
    "    count=0\n",
    "    uris, dates, popularities, duration_ms=[],[],[],[]\n",
    "\n",
    "    for i in range(0,len(data_cleaned)):  \n",
    "        #query artist and song\n",
    "        artist=str(data_cleaned.loc[i,\"song_artist\"])\n",
    "        title=str(data_cleaned.loc[i,\"song_name\"])\n",
    "\n",
    "        #some songs have many artists associated\n",
    "        #however spotify only lists few, so break the string into parts \n",
    "        #and search till match is found\n",
    "        artist.replace(\",\",\" \")\n",
    "        artist_string = [artist] + artist.strip().split()\n",
    "        for artist in artist_string:\n",
    "            if len(artist)>2:\n",
    "                search_query = str(title) + ' ' + str(artist)\n",
    "                result = sp.search(search_query)\n",
    "                if result[\"tracks\"][\"items\"]!=[]:\n",
    "                    break\n",
    "        \n",
    "        if result[\"tracks\"][\"items\"]==[]:\n",
    "            uris.append(\"error\")\n",
    "            dates.append(\"error\")\n",
    "            popularities.append(\"error\")\n",
    "            duration_ms.append(\"error\")   \n",
    "            print(\"error\",count)\n",
    "            count+=1\n",
    "        \n",
    "        else:\n",
    "            print(i,result[\"tracks\"][\"items\"][0][\"uri\"],artist)\n",
    "            uri=result[\"tracks\"][\"items\"][0][\"uri\"]\n",
    "            date= result[\"tracks\"][\"items\"][0][\"album\"][\"release_date\"]\n",
    "            duration = result[\"tracks\"][\"items\"][0][\"duration_ms\"]\n",
    "            popularity = result[\"tracks\"][\"items\"][0][\"popularity\"]  \n",
    "\n",
    "            uris.append(uri)\n",
    "            dates.append(date)\n",
    "            popularities.append(popularity)\n",
    "            duration_ms.append(duration)\n",
    "\n",
    "    return uris, dates, popularities, duration_ms"
   ]
  },
  {
   "cell_type": "code",
   "execution_count": null,
   "metadata": {},
   "outputs": [],
   "source": [
    "def create_csv(uris, dates, popularities, duration_ms, data_cleaned, file_loc):\n",
    "    data_cleaned[\"uris\"] = uris\n",
    "    data_cleaned[\"duration_ms\"] = duration_ms\n",
    "    data_cleaned[\"popularity\"] = popularities\n",
    "    data_cleaned[\"date\"] = dates\n",
    "    data_cleaned.to_csv(file_loc)"
   ]
  },
  {
   "cell_type": "code",
   "execution_count": null,
   "metadata": {},
   "outputs": [],
   "source": [
    "#read in songs from main df\n",
    "datasets = glob.glob(\"./datasets/*.csv\")\n",
    "for file_loc in datasets:\n",
    "    data_cleaned = pd.read_csv(file_loc)\n",
    "    for column in data_cleaned.columns:\n",
    "        data_cleaned[column] = data_cleaned[column].str.strip()\n",
    "        data_cleaned = data_cleaned.dropna(subset =[\"song_name\"]).reset_index(drop =True)\n",
    "    file_loc = file_loc.replace(\"datasets\",\"final_datasets\")\n",
    "    \n",
    "    uris, dates, popularities, duration_ms = query(data_cleaned,file_loc)\n",
    "    \n",
    "    create_csv(uris, dates, popularities, duration_ms, data_cleaned, file_loc)\n"
   ]
  },
  {
   "cell_type": "code",
   "execution_count": null,
   "metadata": {},
   "outputs": [],
   "source": []
  }
 ],
 "metadata": {
  "kernelspec": {
   "display_name": "Python 3",
   "language": "python",
   "name": "python3"
  },
  "language_info": {
   "codemirror_mode": {
    "name": "ipython",
    "version": 3
   },
   "file_extension": ".py",
   "mimetype": "text/x-python",
   "name": "python",
   "nbconvert_exporter": "python",
   "pygments_lexer": "ipython3",
   "version": "3.8.3"
  }
 },
 "nbformat": 4,
 "nbformat_minor": 2
}
