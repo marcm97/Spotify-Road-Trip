{
 "cells": [
  {
   "cell_type": "code",
   "execution_count": 1,
   "metadata": {},
   "outputs": [],
   "source": [
    "import spotipy\n",
    "from spotipy.oauth2 import SpotifyClientCredentials\n",
    "import spotipy.util as util"
   ]
  },
  {
   "cell_type": "code",
   "execution_count": 2,
   "metadata": {},
   "outputs": [],
   "source": [
    "#Save Credentials\n",
    "with open('SpotifyID.txt', 'r') as f:\n",
    "    client_id = f.read().replace('\\n','')\n",
    "with open('SpotifySecret.txt', 'r') as f:\n",
    "    client_secret = f.read().replace('\\n','')\n",
    "username= \"225a5fp37icg43v4vhnztptfy\"\n",
    "    \n",
    "scope = 'user-library-read playlist-modify-public playlist-read-private'\n",
    "\n",
    "redirect_uri='https://developer.spotify.com/dashboard/applications/ec25c1dfa01e4712b0d4d234f8b51a32'\n",
    "\n",
    "client_credentials_manager = SpotifyClientCredentials(client_id=client_id, client_secret=client_secret) \n",
    "\n",
    "sp = spotipy.Spotify(client_credentials_manager=client_credentials_manager)\n",
    "\n",
    "token = util.prompt_for_user_token(username, scope, client_id, client_secret, redirect_uri)\n",
    "\n",
    "if token:\n",
    "    sp = spotipy.Spotify(auth=token)\n",
    "else:\n",
    "    print(\"Can't get token for\", username)"
   ]
  },
  {
   "cell_type": "code",
   "execution_count": 3,
   "metadata": {},
   "outputs": [
    {
     "data": {
      "text/plain": [
       "{'display_name': 'Marc Mascarenhas',\n",
       " 'external_urls': {'spotify': 'https://open.spotify.com/user/225a5fp37icg43v4vhnztptfy'},\n",
       " 'followers': {'href': None, 'total': 21},\n",
       " 'href': 'https://api.spotify.com/v1/users/225a5fp37icg43v4vhnztptfy',\n",
       " 'id': '225a5fp37icg43v4vhnztptfy',\n",
       " 'images': [{'height': None,\n",
       "   'url': 'https://platform-lookaside.fbsbx.com/platform/profilepic/?asid=860982307303566&height=300&width=300&ext=1596988685&hash=AeRzctgNc-0Zksuw',\n",
       "   'width': None}],\n",
       " 'type': 'user',\n",
       " 'uri': 'spotify:user:225a5fp37icg43v4vhnztptfy'}"
      ]
     },
     "execution_count": 3,
     "metadata": {},
     "output_type": "execute_result"
    }
   ],
   "source": [
    "sp.current_user()"
   ]
  },
  {
   "cell_type": "code",
   "execution_count": null,
   "metadata": {},
   "outputs": [],
   "source": [
    "sp.user_playlist_create(username, \"roadtrip\", public=True, description='')\n",
    "sp.user_playlist_add_tracks(username, playlist_id = \"326MryMYu2ggx9rW9Gbv3q\", tracks=[\"spotify:track:4oiTnmTrJNDAsOPgEONYpA\"], position=None)"
   ]
  }
 ],
 "metadata": {
  "kernelspec": {
   "display_name": "Python 3",
   "language": "python",
   "name": "python3"
  },
  "language_info": {
   "codemirror_mode": {
    "name": "ipython",
    "version": 3
   },
   "file_extension": ".py",
   "mimetype": "text/x-python",
   "name": "python",
   "nbconvert_exporter": "python",
   "pygments_lexer": "ipython3",
   "version": "3.7.6"
  }
 },
 "nbformat": 4,
 "nbformat_minor": 4
}
