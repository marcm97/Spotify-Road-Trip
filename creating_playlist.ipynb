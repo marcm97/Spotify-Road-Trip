{
 "cells": [
  {
   "cell_type": "code",
   "execution_count": null,
   "metadata": {},
   "outputs": [],
   "source": [
    "import spotipy\n",
    "from spotipy.oauth2 import SpotifyClientCredentials\n",
    "import spotipy.util as util\n",
    "import pandas as pd"
   ]
  },
  {
   "cell_type": "code",
   "execution_count": null,
   "metadata": {},
   "outputs": [],
   "source": [
    "#Save Credentials\n",
    "with open('SpotifyID.txt', 'r') as f:\n",
    "    client_id = f.read().replace('\\n','')\n",
    "with open('SpotifySecret.txt', 'r') as f:\n",
    "    client_secret = f.read().replace('\\n','')\n",
    "\n",
    "\n",
    "#setup spotipy\n",
    "username= \"225a5fp37icg43v4vhnztptfy\"\n",
    "#username = \"cz3ea2nv7vk9l4hkkoiqnvvua\"\n",
    "scope = 'user-library-read playlist-modify-public playlist-read-private'\n",
    "redirect_uri='https://developer.spotify.com/dashboard/applications/ec25c1dfa01e4712b0d4d234f8b51a32'\n",
    "\n",
    "client_credentials_manager = SpotifyClientCredentials(client_id=client_id, client_secret=client_secret) \n",
    "sp = spotipy.Spotify(client_credentials_manager=client_credentials_manager)\n",
    "token = util.prompt_for_user_token(username, scope, client_id, client_secret, redirect_uri)\n",
    "\n",
    "if token:\n",
    "    sp = spotipy.Spotify(auth=token)\n",
    "else:\n",
    "    print(\"Can't get token for\", username)"
   ]
  },
  {
   "cell_type": "code",
   "execution_count": null,
   "metadata": {},
   "outputs": [],
   "source": [
    "def search_playlist(sp,new_playlist):\n",
    "    playListID =\"\"\n",
    "    playlists = sp.user_playlists(username)\n",
    "    for playlist in playlists[\"items\"]:\n",
    "        if (playlist[\"name\"]==new_playlist):\n",
    "            playListID = playlist[\"id\"]\n",
    "    return playListID"
   ]
  },
  {
   "cell_type": "code",
   "execution_count": null,
   "metadata": {},
   "outputs": [],
   "source": [
    "def create_playlist(playlist_name,sp,username):\n",
    "    \n",
    "    #See if playlist already exists\n",
    "    #if exists, return playlist id\n",
    "    #else create new one\n",
    "    playListID = search_playlist(sp,playlist_name)\n",
    "    \n",
    "    if (playListID==\"\"):\n",
    "        sp.user_playlist_create(username, playlist_name,public = False)\n",
    "        playListID = search_playlist(sp,playlist_name)\n",
    "\n",
    "    return playListID\n",
    "    "
   ]
  },
  {
   "cell_type": "code",
   "execution_count": null,
   "metadata": {},
   "outputs": [],
   "source": [
    "def add_songs(playListID,songs,duration,sp,username):\n",
    "    song_set = set()\n",
    "    while duration>0:\n",
    "        bag = songs.sample(weights = [int(x) if str(x).isdigit() else 0 for x in songs.popularity])\n",
    "        if bag.iloc[0,-5] not in song_set:\n",
    "            song_set.add(bag.iloc[0,-5])\n",
    "            uri = bag.iloc[0,-4]\n",
    "            song_length = int(bag.iloc[0,-3])\n",
    "            sp.user_playlist_add_tracks(username, playlist_id = playListID, tracks=[uri], position=None)\n",
    "            duration = duration-song_length\n",
    "    "
   ]
  },
  {
   "cell_type": "code",
   "execution_count": null,
   "metadata": {},
   "outputs": [],
   "source": [
    "playListID = create_playlist(\"roadtrip3\",sp,username)\n",
    "duration=30*60*1000\n",
    "states =[\"South Dakota\"]\n",
    "count = len(states)\n",
    "for state in states:\n",
    "    songs = pd.read_csv(\"./final_datasets/\"+ state +\".csv\")\n",
    "    songs = songs[songs[\"uris\"]!=\"error\"]\n",
    "    songs = songs[songs[\"popularity\"]!=\"0\"]\n",
    "    add_songs(playListID,songs,duration/count,sp,username)"
   ]
  },
  {
   "cell_type": "code",
   "execution_count": null,
   "metadata": {},
   "outputs": [],
   "source": []
  }
 ],
 "metadata": {
  "kernelspec": {
   "display_name": "Python 3",
   "language": "python",
   "name": "python3"
  },
  "language_info": {
   "codemirror_mode": {
    "name": "ipython",
    "version": 3
   },
   "file_extension": ".py",
   "mimetype": "text/x-python",
   "name": "python",
   "nbconvert_exporter": "python",
   "pygments_lexer": "ipython3",
   "version": "3.8.3"
  }
 },
 "nbformat": 4,
 "nbformat_minor": 4
}
