{
 "cells": [
  {
   "cell_type": "markdown",
   "metadata": {},
   "source": [
    "## The goal of this script is to scrape various sites to create a dataframe of songs of various cities in the United States"
   ]
  },
  {
   "cell_type": "code",
   "execution_count": 56,
   "metadata": {},
   "outputs": [],
   "source": [
    "from requests import get\n",
    "import pandas as pd\n",
    "from bs4 import BeautifulSoup\n",
    "import re"
   ]
  },
  {
   "cell_type": "markdown",
   "metadata": {},
   "source": [
    "### A) Wikipedia (https://en.wikipedia.org/wiki/List_of_songs_about_cities#United_States)"
   ]
  },
  {
   "cell_type": "code",
   "execution_count": 57,
   "metadata": {},
   "outputs": [],
   "source": [
    "response = get(\"https://en.wikipedia.org/wiki/List_of_songs_about_cities#United_States\")\n",
    "html_soup = BeautifulSoup(response.text, 'html.parser')\n",
    "h3s = html_soup.find_all(\"h3\")"
   ]
  },
  {
   "cell_type": "code",
   "execution_count": 58,
   "metadata": {},
   "outputs": [],
   "source": [
    "places = []\n",
    "songs =[]\n",
    "for i in range(348,497):\n",
    "    places.append(h3s[i].text)\n",
    "    songs.append(h3s[i].findNext(\"ul\").text)"
   ]
  },
  {
   "cell_type": "code",
   "execution_count": 59,
   "metadata": {},
   "outputs": [],
   "source": [
    "data = pd.DataFrame({\"places\":places,\"songs\":songs})"
   ]
  },
  {
   "cell_type": "code",
   "execution_count": 60,
   "metadata": {},
   "outputs": [],
   "source": [
    "data[[\"city\",\"state\"]]=data[\"places\"].str.split(\",\",expand = True)"
   ]
  },
  {
   "cell_type": "code",
   "execution_count": 61,
   "metadata": {},
   "outputs": [],
   "source": [
    "data = (data\n",
    " .set_index([\"city\",\"state\"])\n",
    " .songs.str.split(\"\\n\",expand = True)\n",
    " .stack()\n",
    " .reset_index()\n",
    " .rename(columns={0:'songs'})\n",
    " .loc[:,[\"city\",\"state\",\"songs\"]]\n",
    ")"
   ]
  },
  {
   "cell_type": "code",
   "execution_count": 62,
   "metadata": {},
   "outputs": [],
   "source": [
    "data[\"state\"] = data[\"state\"].str.split(\"[\",expand = True).iloc[:,0]"
   ]
  },
  {
   "cell_type": "code",
   "execution_count": 63,
   "metadata": {},
   "outputs": [
    {
     "data": {
      "text/plain": [
       "'\"I-95\" by Fountains of Wayne'"
      ]
     },
     "execution_count": 63,
     "metadata": {},
     "output_type": "execute_result"
    }
   ],
   "source": [
    "data[\"songs\"][0]"
   ]
  },
  {
   "cell_type": "markdown",
   "metadata": {},
   "source": [
    "In the Wikipedia page, there are some cities which have so many songs that they have their own separate wikipages\n",
    "The webscraper does not capture this, we need to manually get these"
   ]
  },
  {
   "cell_type": "code",
   "execution_count": 64,
   "metadata": {},
   "outputs": [
    {
     "data": {
      "text/html": [
       "<div>\n",
       "<style scoped>\n",
       "    .dataframe tbody tr th:only-of-type {\n",
       "        vertical-align: middle;\n",
       "    }\n",
       "\n",
       "    .dataframe tbody tr th {\n",
       "        vertical-align: top;\n",
       "    }\n",
       "\n",
       "    .dataframe thead th {\n",
       "        text-align: right;\n",
       "    }\n",
       "</style>\n",
       "<table border=\"1\" class=\"dataframe\">\n",
       "  <thead>\n",
       "    <tr style=\"text-align: right;\">\n",
       "      <th></th>\n",
       "      <th>city</th>\n",
       "      <th>state</th>\n",
       "    </tr>\n",
       "  </thead>\n",
       "  <tbody>\n",
       "    <tr>\n",
       "      <th>112</th>\n",
       "      <td>Cleveland</td>\n",
       "      <td>Ohio</td>\n",
       "    </tr>\n",
       "    <tr>\n",
       "      <th>224</th>\n",
       "      <td>Jackson</td>\n",
       "      <td>Mississippi</td>\n",
       "    </tr>\n",
       "    <tr>\n",
       "      <th>387</th>\n",
       "      <td>New York City</td>\n",
       "      <td>New York</td>\n",
       "    </tr>\n",
       "  </tbody>\n",
       "</table>\n",
       "</div>"
      ],
      "text/plain": [
       "              city         state\n",
       "112      Cleveland          Ohio\n",
       "224        Jackson   Mississippi\n",
       "387  New York City      New York"
      ]
     },
     "execution_count": 64,
     "metadata": {},
     "output_type": "execute_result"
    }
   ],
   "source": [
    "data[data.duplicated([\"songs\"],keep=\"last\")][[\"city\",\"state\"]].sample(3)"
   ]
  },
  {
   "cell_type": "markdown",
   "metadata": {},
   "source": [
    "Lets drop these for now and maybe scrape them separately later"
   ]
  },
  {
   "cell_type": "code",
   "execution_count": 65,
   "metadata": {},
   "outputs": [],
   "source": [
    "data_cleaned = data.drop_duplicates(\"songs\",keep=\"last\").reset_index(drop =True)"
   ]
  },
  {
   "cell_type": "code",
   "execution_count": 66,
   "metadata": {},
   "outputs": [
    {
     "data": {
      "text/plain": [
       " Texas             86\n",
       " New Mexico        54\n",
       " Ohio              33\n",
       " Oklahoma          33\n",
       " Tennessee         33\n",
       " Pennsylvania      32\n",
       " Missouri          27\n",
       " California        25\n",
       " Minnesota         24\n",
       " Maryland          24\n",
       " Nevada            24\n",
       " Arizona           15\n",
       " Florida           14\n",
       " Virginia          12\n",
       " D.C.              11\n",
       " Kansas            10\n",
       " Colorado          10\n",
       " Wyoming            9\n",
       " Michigan           9\n",
       " Alabama            8\n",
       " Nebraska           8\n",
       " Georgia            7\n",
       " South Carolina     7\n",
       " New Jersey         6\n",
       " Illinois           6\n",
       " North Carolina     5\n",
       " Arkansas           5\n",
       " Indiana            5\n",
       " Kentucky           4\n",
       " Idaho              4\n",
       " Washington         4\n",
       " Iowa               4\n",
       " Mississippi        4\n",
       " Alaska             3\n",
       " Wisconsin          3\n",
       " Louisiana          3\n",
       " New York           3\n",
       " Maine              3\n",
       " Utah               2\n",
       " Oregon             2\n",
       " Hawaii             2\n",
       "Name: state, dtype: int64"
      ]
     },
     "execution_count": 66,
     "metadata": {},
     "output_type": "execute_result"
    }
   ],
   "source": [
    "data_cleaned[\"state\"].value_counts()"
   ]
  },
  {
   "cell_type": "code",
   "execution_count": 67,
   "metadata": {},
   "outputs": [],
   "source": [
    "data_cleaned.to_csv(\"songs.csv\")"
   ]
  },
  {
   "cell_type": "code",
   "execution_count": null,
   "metadata": {},
   "outputs": [],
   "source": []
  }
 ],
 "metadata": {
  "kernelspec": {
   "display_name": "Python 3",
   "language": "python",
   "name": "python3"
  },
  "language_info": {
   "codemirror_mode": {
    "name": "ipython",
    "version": 3
   },
   "file_extension": ".py",
   "mimetype": "text/x-python",
   "name": "python",
   "nbconvert_exporter": "python",
   "pygments_lexer": "ipython3",
   "version": "3.7.6"
  }
 },
 "nbformat": 4,
 "nbformat_minor": 2
}
