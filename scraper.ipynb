{
 "cells": [
  {
   "cell_type": "markdown",
   "metadata": {},
   "source": [
    "### The goal of this script is to  to create a dataframe of songs of various cities in the United States\n",
    " - scrape https://en.wikipedia.org/wiki/List_of_songs_about_cities#United_States"
   ]
  },
  {
   "cell_type": "code",
   "execution_count": 65,
   "metadata": {},
   "outputs": [],
   "source": [
    "from requests import get\n",
    "import pandas as pd\n",
    "from bs4 import BeautifulSoup\n",
    "import re\n",
    "import spotipy\n",
    "from spotipy.oauth2 import SpotifyClientCredentials\n",
    "import spotipy.util as util"
   ]
  },
  {
   "cell_type": "markdown",
   "metadata": {},
   "source": [
    "#### The main wiki page has a list of songs about cities from all over the world. Ssome of the bigger cities that have a lot of songs about it, have their own wiki pages\n",
    "\n",
    "There didn't seem to be a clear pattern in the html through which I could extract just us cities, so I had to manually find the range of ines that I had to specify"
   ]
  },
  {
   "cell_type": "code",
   "execution_count": 66,
   "metadata": {},
   "outputs": [],
   "source": [
    "response = get(\"https://en.wikipedia.org/wiki/List_of_songs_about_cities#United_States\")\n",
    "html_soup = BeautifulSoup(response.text, 'html.parser')\n",
    "h3s = html_soup.find_all(\"h3\")"
   ]
  },
  {
   "cell_type": "code",
   "execution_count": 67,
   "metadata": {},
   "outputs": [],
   "source": [
    "places = []\n",
    "songs =[]\n",
    "for i in range(352,502):\n",
    "    places.append(h3s[i].text)\n",
    "    songs.append(h3s[i].findNext(\"ul\").text)"
   ]
  },
  {
   "cell_type": "code",
   "execution_count": 68,
   "metadata": {},
   "outputs": [],
   "source": [
    "main_pg = pd.DataFrame({\"places\":places,\"songs\":songs})"
   ]
  },
  {
   "cell_type": "code",
   "execution_count": 69,
   "metadata": {},
   "outputs": [],
   "source": [
    "#format text and reformat columns\n",
    "main_pg[[\"city\",\"state\"]]=main_pg[\"places\"].str.split(\",\",expand = True)\n",
    "\n",
    "main_pg = (main_pg\n",
    " .set_index([\"city\",\"state\"])\n",
    " .songs.str.split(\"\\n\",expand = True)\n",
    " .stack()\n",
    " .reset_index()\n",
    " .rename(columns={0:'songs'})\n",
    " .loc[:,[\"city\",\"state\",\"songs\"]]\n",
    ")\n",
    "main_pg[\"state\"] = main_pg[\"state\"].str.split(\"[\",expand = True).iloc[:,0]\n",
    "main_pg[['_','song','artist']] =main_pg[\"songs\"].str.replace(\"by\",\"\").str.split('\"',expand =True,n=2)"
   ]
  },
  {
   "cell_type": "markdown",
   "metadata": {},
   "source": [
    "In the Wikipedia page, there are some cities which have so many songs that they have their own separate wikipages\n",
    "The webscraper does not capture this, we need to manually get these.\n",
    "Lets drop these repetetions and scrape their individual wiki pages"
   ]
  },
  {
   "cell_type": "code",
   "execution_count": 70,
   "metadata": {},
   "outputs": [],
   "source": [
    "main_pg = (main_pg.\n",
    " drop_duplicates(\"songs\",keep=\"last\").\n",
    " dropna(subset =[\"song\"]).\n",
    " reset_index(drop=True).\n",
    " loc[:,[\"state\",\"city\",\"song\",\"artist\"]]\n",
    ")\n"
   ]
  },
  {
   "cell_type": "markdown",
   "metadata": {},
   "source": [
    "### Scraping Individual Pages"
   ]
  },
  {
   "cell_type": "code",
   "execution_count": 71,
   "metadata": {},
   "outputs": [],
   "source": [
    "#lists to keep songs and places info for all the songs from cities that have their own wiki pages of songs\n",
    "places =[]\n",
    "songs =[]"
   ]
  },
  {
   "cell_type": "code",
   "execution_count": 72,
   "metadata": {},
   "outputs": [],
   "source": [
    "def print_songs_from_individual_cities(site,start,end,places,songs,city):\n",
    "    \"\"\"\n",
    "    prints a list of songs from wiki page of the city \n",
    "    inputs:\n",
    "        site: wiki page that has a similar format to https://en.wikipedia.org/wiki/List_of_songs_about_Atlanta\n",
    "        start, end: starting and ending tag numbers(?) manuallyhad to figure out where the song started and ended\n",
    "        places: list of names of the cities\n",
    "        songs: list of the names of the songs\n",
    "    \"\"\"\n",
    "    response = get(site)\n",
    "    html_soup = BeautifulSoup(response.text, 'html.parser')\n",
    "    song =html_soup.find_all(\"li\")\n",
    "    for i in song[start:end]:\n",
    "        print(i.text)"
   ]
  },
  {
   "cell_type": "code",
   "execution_count": 73,
   "metadata": {},
   "outputs": [],
   "source": [
    "def scrape_songs_from_individual_cities(site,start,end,places,songs,city):\n",
    "    \"\"\"\n",
    "    scrapes a list of songs from wiki page of the city \n",
    "    inputs:\n",
    "        site: wiki page that has a similar format to https://en.wikipedia.org/wiki/List_of_songs_about_Atlanta\n",
    "        start, end: starting and ending tag numbers(?) manuallyhad to figure out where the song started and ended\n",
    "        places: list of names of the cities\n",
    "        songs: list of the names of the songs\n",
    "    output: places,songs\n",
    "    \"\"\"\n",
    "    response = get(site)\n",
    "    html_soup = BeautifulSoup(response.text, 'html.parser')\n",
    "    song =html_soup.find_all(\"li\")\n",
    "    for i in song[start:end]:\n",
    "        places.append(city)\n",
    "        songs.append(i.text)\n",
    "    return places,songs"
   ]
  },
  {
   "cell_type": "markdown",
   "metadata": {},
   "source": [
    "## Atlanta"
   ]
  },
  {
   "cell_type": "code",
   "execution_count": 74,
   "metadata": {},
   "outputs": [],
   "source": [
    "site = \"https://en.wikipedia.org/wiki/List_of_songs_about_Atlanta\"\n",
    "places,songs = scrape_songs_from_individual_cities(site,0,-51,places,songs,\"Atlanta, Georgia\")"
   ]
  },
  {
   "cell_type": "markdown",
   "metadata": {},
   "source": [
    "## Alabama"
   ]
  },
  {
   "cell_type": "code",
   "execution_count": 75,
   "metadata": {},
   "outputs": [],
   "source": [
    "#The website for Alabama was slightly differently formatted\n",
    "response = get(\"https://en.wikipedia.org/wiki/List_of_songs_about_Birmingham,_Alabama\")\n",
    "html_soup = BeautifulSoup(response.text, 'html.parser')\n",
    "song =html_soup.find_all(\"li\")\n",
    "for i in song[:-54]:\n",
    "    places.append(\"Birmingham, Alabama\")\n",
    "    songs.append(i.text.split(\",\")[1] +\"  \" +i.text.split(\",\")[0])"
   ]
  },
  {
   "cell_type": "markdown",
   "metadata": {},
   "source": [
    "## Boston"
   ]
  },
  {
   "cell_type": "code",
   "execution_count": 76,
   "metadata": {},
   "outputs": [],
   "source": [
    "site = \"https://en.wikipedia.org/wiki/List_of_songs_about_Boston\"\n",
    "places,songs = scrape_songs_from_individual_cities(site,0,-171,places,songs,\"Boston, Massachusetts\")"
   ]
  },
  {
   "cell_type": "markdown",
   "metadata": {},
   "source": [
    "## Chicago"
   ]
  },
  {
   "cell_type": "code",
   "execution_count": 77,
   "metadata": {},
   "outputs": [],
   "source": [
    "site = \"https://en.wikipedia.org/wiki/List_of_songs_about_Chicago\"\n",
    "places,songs = scrape_songs_from_individual_cities(site,28,-101,places,songs,\"Chicago, Illinois\")"
   ]
  },
  {
   "cell_type": "markdown",
   "metadata": {},
   "source": [
    "## Detroit"
   ]
  },
  {
   "cell_type": "code",
   "execution_count": 78,
   "metadata": {},
   "outputs": [],
   "source": [
    "site = \"https://en.wikipedia.org/wiki/List_of_songs_about_Detroit\"\n",
    "places,songs = scrape_songs_from_individual_cities(site,28,-62,places,songs,\"Chicago, Illinois\")"
   ]
  },
  {
   "cell_type": "markdown",
   "metadata": {},
   "source": [
    "## Los Angeles"
   ]
  },
  {
   "cell_type": "code",
   "execution_count": 79,
   "metadata": {},
   "outputs": [],
   "source": [
    "site = \"https://en.wikipedia.org/wiki/List_of_songs_about_Los_Angeles\"\n",
    "places,songs = scrape_songs_from_individual_cities(site,12,-52,places,songs,\"Los Angeles, California\")"
   ]
  },
  {
   "cell_type": "markdown",
   "metadata": {},
   "source": [
    "## Miami"
   ]
  },
  {
   "cell_type": "code",
   "execution_count": 80,
   "metadata": {},
   "outputs": [],
   "source": [
    "site = \"https://en.wikipedia.org/wiki/List_of_songs_about_Miami\"\n",
    "places,songs = scrape_songs_from_individual_cities(site,5,-58,places,songs,\"Miami, Florida\")"
   ]
  },
  {
   "cell_type": "markdown",
   "metadata": {},
   "source": [
    "## Nashville"
   ]
  },
  {
   "cell_type": "code",
   "execution_count": 81,
   "metadata": {},
   "outputs": [],
   "source": [
    "site = \"https://en.wikipedia.org/wiki/List_of_songs_about_Nashville,_Tennessee\"\n",
    "places,songs = scrape_songs_from_individual_cities(site,27,-50,places,songs,\"Nashville, Tennessee\")"
   ]
  },
  {
   "cell_type": "markdown",
   "metadata": {},
   "source": [
    "## New Orleans"
   ]
  },
  {
   "cell_type": "code",
   "execution_count": 82,
   "metadata": {},
   "outputs": [],
   "source": [
    "site = \"https://en.wikipedia.org/wiki/List_of_songs_about_New_Orleans\"\n",
    "places,songs = scrape_songs_from_individual_cities(site,27,-55,places,songs,\"New Orleans, Louisiana\")"
   ]
  },
  {
   "cell_type": "markdown",
   "metadata": {},
   "source": [
    "## New York"
   ]
  },
  {
   "cell_type": "code",
   "execution_count": 83,
   "metadata": {},
   "outputs": [],
   "source": [
    "site = \"https://en.wikipedia.org/wiki/List_of_songs_about_New_York_City\"\n",
    "places,songs = scrape_songs_from_individual_cities(site,27,-135,places,songs,\"New York City, New York\")"
   ]
  },
  {
   "cell_type": "markdown",
   "metadata": {},
   "source": [
    "## Oregon"
   ]
  },
  {
   "cell_type": "code",
   "execution_count": 84,
   "metadata": {},
   "outputs": [],
   "source": [
    "site = \"https://en.wikipedia.org/wiki/List_of_songs_about_Portland,_Oregon\"\n",
    "places,songs = scrape_songs_from_individual_cities(site,0,-67,places,songs,\"Portland, Oregon\")"
   ]
  },
  {
   "cell_type": "markdown",
   "metadata": {},
   "source": [
    "## San Francisco"
   ]
  },
  {
   "cell_type": "code",
   "execution_count": 85,
   "metadata": {},
   "outputs": [],
   "source": [
    "response = get(\"https://en.wikipedia.org/wiki/List_of_songs_about_California#San_Francisco_and_the_Bay_Area\")\n",
    "html_soup = BeautifulSoup(response.text, 'html.parser')\n",
    "song =html_soup.find_all(\"tr\")\n",
    "for i in song[1:]:\n",
    "    #print(i.text.split(\"\\n\")[1] +\" - \"+ i.text.split(\"\\n\")[2])\n",
    "    songs.append(i.text.split(\"\\n\")[1] +\" - \"+ i.text.split(\"\\n\")[2])\n",
    "    places.append(\"San Francisco, California\")"
   ]
  },
  {
   "cell_type": "code",
   "execution_count": 86,
   "metadata": {},
   "outputs": [],
   "source": [
    "#create a df of all these songs that were just scraped\n",
    "individual_cities = pd.DataFrame(\n",
    "    {'songs': songs,\n",
    "     'places': places,\n",
    "    })"
   ]
  },
  {
   "cell_type": "code",
   "execution_count": 87,
   "metadata": {},
   "outputs": [],
   "source": [
    "individual_cities[[\"city\",\"state\"]] = individual_cities[\"places\"].str.split(\",\",expand=True)"
   ]
  },
  {
   "cell_type": "code",
   "execution_count": 88,
   "metadata": {},
   "outputs": [],
   "source": [
    "#format column and text\n",
    "individual_cities[[\"placeholder\",\"song\",\"artist\"]]=(individual_cities[\"songs\"].\n",
    " str.replace(\"by\",\"\").\n",
    " str.replace(\"-\",\"\").\n",
    " str.replace(r\"\\((19|20)\\d{2}\\)\",\"\").                                         \n",
    " str.split('\"',expand =True,n=2)\n",
    ")\n",
    "\n",
    "individual_cities = individual_cities[[\"state\",\"city\",\"song\",\"artist\"]]"
   ]
  },
  {
   "cell_type": "code",
   "execution_count": 89,
   "metadata": {},
   "outputs": [],
   "source": [
    "#concatenate the 2 data frames\n",
    "data_cleaned = pd.concat([main_pg, individual_cities]).reset_index(drop=True)"
   ]
  },
  {
   "cell_type": "code",
   "execution_count": 91,
   "metadata": {},
   "outputs": [],
   "source": [
    "data_cleaned.to_csv(\"./datasets/webscraped_songs.csv\")"
   ]
  },
  {
   "cell_type": "code",
   "execution_count": null,
   "metadata": {},
   "outputs": [],
   "source": []
  }
 ],
 "metadata": {
  "kernelspec": {
   "display_name": "Python 3",
   "language": "python",
   "name": "python3"
  },
  "language_info": {
   "codemirror_mode": {
    "name": "ipython",
    "version": 3
   },
   "file_extension": ".py",
   "mimetype": "text/x-python",
   "name": "python",
   "nbconvert_exporter": "python",
   "pygments_lexer": "ipython3",
   "version": "3.7.6"
  }
 },
 "nbformat": 4,
 "nbformat_minor": 2
}
